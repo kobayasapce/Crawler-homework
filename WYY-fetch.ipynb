{
 "cells": [
  {
   "cell_type": "code",
   "execution_count": 34,
   "id": "7776ed5d-cac1-4d8e-8364-19554193a3b5",
   "metadata": {},
   "outputs": [],
   "source": [
    "import requests\n",
    "import json\n",
    "import jsonpath\n",
    "import pandas as pd\n",
    "# 实现AES加密需要的三个模块\n",
    "from Crypto.Cipher import AES\n",
    "from Crypto.Util.Padding import pad\n",
    "from base64 import b64encode"
   ]
  },
  {
   "cell_type": "code",
   "execution_count": 35,
   "id": "b0551ef3-7fad-4707-9ab8-d7a5e1a00cd7",
   "metadata": {},
   "outputs": [],
   "source": [
    "# py实现AES-CBC加密\n",
    "def encrypt_aes(text, key, iv):\n",
    "    cipher = AES.new(key.encode('utf-8'), AES.MODE_CBC, iv.encode('utf-8'))\n",
    "    padded_text = pad(text.encode('utf-8'), AES.block_size)\n",
    "    ciphertext = cipher.encrypt(padded_text)\n",
    "    return b64encode(ciphertext).decode('utf-8')\n",
    " \n",
    "# 仿照function b(a, b)构造加密函数\n",
    "def b(a,b):\n",
    "    c=b\n",
    "    d=\"0102030405060708\"\n",
    "    e=a\n",
    "    f=encrypt_aes(e, c, d)\n",
    "    return f"
   ]
  },
  {
   "cell_type": "code",
   "execution_count": 36,
   "id": "5682cfa9-2c17-463d-93dd-308474634010",
   "metadata": {},
   "outputs": [],
   "source": [
    "def WYY_crawler(id):\n",
    "    # 评论数据(i6c)\n",
    "    song_id = 'R_SO_4_'+str(id)\n",
    "    print(song_id)\n",
    "    d={\n",
    "        'csrf_token':'a377fd1409c2d967e66527ddf3ce2c02',#可以为空值\n",
    "        'cursor': '-1',\n",
    "        'offset': '0',\n",
    "        'orderType': '1',\n",
    "        'pageNo': '1',\n",
    "        'pageSize': '100',#评论数\n",
    "        'rid': song_id, #歌曲编号\n",
    "        'threadId': song_id #歌曲编号\n",
    "    }\n",
    "     \n",
    "    # 16位随机字符串\n",
    "    i=\"4BfsFyBWTSe0C5eQ\"\n",
    "    # bsu6o([\"流泪\", \"强\"])\n",
    "    e=\"010001\"\n",
    "    # bsu6o(Xo0x.md)\n",
    "    f=\"00e0b509f6259df8642dbc35662901477df22677ec152b5ff68ace615bb7b725152b3ab17a876aea8a5aa76d2e417629ec4ee341f56135fccf695280104e0312ecbda92557c93870114af6c9d05c4f7f0c3685b7a46bee255932575cce10b424d813cfe4875d3e82047b97ddef52741d546b8e289dc6935b3ece0462db0a22b8e7\"\n",
    "    # bsu6o([\"爱心\", \"女孩\", \"惊恐\", \"大笑\"])\n",
    "    g=\"0CoJUm6Qyw8W8jud\"\n",
    "     \n",
    "    # 将i6c转化为json格式\n",
    "    d_json=json.dumps(d)\n",
    "     \n",
    "    # 调用两次b()函数得出encText\n",
    "    encText=b(d_json,g)\n",
    "    encText=b(encText,i)\n",
    "     \n",
    "    # 随机字符串获得encSecKey\n",
    "    encSecKey=\"ac120b775a368f6cdf196f173ac16bccaa08e8589fdd824f7445cb71a6f12f7a25da019240ce2f69a214ef34ba2795b057b1cf4fd24fbf4bd9f78167c9c69de4ee8be3bb8bb9119e2a0328219497864558363bc8e5c8a7999822f127dc0d7fc3bbf0a53f3e2e091eba811eb57558dd6290ab4224f636cea2d264bb2ed7c7cee8\"\n",
    "     \n",
    "    # 请求头\n",
    "    headers={\n",
    "        'User-Agent':'Mozilla/5.0 (Windows NT 10.0; Win64; x64) AppleWebKit/537.36 (KHTML, like Gecko) Chrome/122.0.0.0 Safari/537.36',\n",
    "    }\n",
    "    # 评论数据的请求地址\n",
    "    url='https://music.163.com/weapi/comment/resource/comments/get?csrf_token='\n",
    "     \n",
    "    # 将encText和encSecKey打包起来\n",
    "    data={\n",
    "    'params':encText,\n",
    "    'encSecKey':encSecKey\n",
    "    }\n",
    "     \n",
    "    \n",
    "    # 发送post请求并携带encText和encSecKey得到评论的json格式\n",
    "    respond=requests.post(url, headers=headers,data=data).json()\n",
    "    # 读取评论数据\n",
    "    comment = jsonpath.jsonpath(respond, '$.data.comments[*].content')\n",
    "    return comment"
   ]
  },
  {
   "cell_type": "code",
   "execution_count": 37,
   "id": "be394272-be95-4913-b6f7-406187742d1f",
   "metadata": {},
   "outputs": [
    {
     "name": "stdout",
     "output_type": "stream",
     "text": [
      "['2124385868', '1890530891', '1827600686', '2154102353', '2072639869', '2124731026', '2149816863', '1903149553', '2149792787', '2154955484', '2151849447', '2061978961', '2156439313', '1397345903', '1959528822', '2119795491', '2154148199', '1895330088', '1974443814', '1456890009']\n"
     ]
    }
   ],
   "source": [
    "# 读取歌曲排行榜信息\n",
    "# 定义文件路径  \n",
    "file_path = \"歌曲名称和id.txt\"  # 请将这里的路径替换为你的txt文件的实际路径  \n",
    "  \n",
    "# 以只读方式打开文件 \n",
    "with open(file_path, 'r', encoding='utf-8') as file:  \n",
    "    # 读取文件的每一行，并存储为列表  \n",
    "    lines = file.read().splitlines()  # 或者使用 file.readlines()  \n",
    "\n",
    "x = range(0,len(lines),1)\n",
    "id_list = [lines[i][-10:] for i in x]\n",
    "print(id_list)"
   ]
  },
  {
   "cell_type": "code",
   "execution_count": 38,
   "id": "1ff70036-2152-4247-97cf-d1f8ae84b928",
   "metadata": {},
   "outputs": [
    {
     "name": "stdout",
     "output_type": "stream",
     "text": [
      "R_SO_4_2124385868\n",
      "第0个文件保存完成！\n",
      "R_SO_4_1890530891\n",
      "第1个文件保存完成！\n",
      "R_SO_4_1827600686\n",
      "第2个文件保存完成！\n",
      "R_SO_4_2154102353\n",
      "第3个文件保存完成！\n",
      "R_SO_4_2072639869\n",
      "第4个文件保存完成！\n",
      "R_SO_4_2124731026\n",
      "第5个文件保存完成！\n",
      "R_SO_4_2149816863\n",
      "第6个文件保存完成！\n",
      "R_SO_4_1903149553\n",
      "第7个文件保存完成！\n",
      "R_SO_4_2149792787\n",
      "第8个文件保存完成！\n",
      "R_SO_4_2154955484\n",
      "第9个文件保存完成！\n",
      "R_SO_4_2151849447\n",
      "第10个文件保存完成！\n",
      "R_SO_4_2061978961\n",
      "第11个文件保存完成！\n",
      "R_SO_4_2156439313\n",
      "第12个文件保存完成！\n",
      "R_SO_4_1397345903\n",
      "第13个文件保存完成！\n",
      "R_SO_4_1959528822\n",
      "第14个文件保存完成！\n",
      "R_SO_4_2119795491\n",
      "第15个文件保存完成！\n",
      "R_SO_4_2154148199\n",
      "第16个文件保存完成！\n",
      "R_SO_4_1895330088\n",
      "第17个文件保存完成！\n",
      "R_SO_4_1974443814\n",
      "第18个文件保存完成！\n",
      "R_SO_4_1456890009\n",
      "第19个文件保存完成！\n"
     ]
    }
   ],
   "source": [
    "for i in range(0,len(id_list),1):\n",
    "    comment = WYY_crawler(id=id_list[i])\n",
    "    output = pd.DataFrame({\"comment\":comment}).to_csv(\"WYY/WYY_rank\"+str(i)+\".csv\", sep=',', index=False)\n",
    "    print(\"第\"+str(i)+\"个文件保存完成！\")"
   ]
  },
  {
   "cell_type": "code",
   "execution_count": 27,
   "id": "114a0380-b729-4149-8042-33b48f83e848",
   "metadata": {},
   "outputs": [],
   "source": []
  },
  {
   "cell_type": "code",
   "execution_count": null,
   "id": "9773602c-0fbf-45fa-929b-af2e5323d047",
   "metadata": {},
   "outputs": [],
   "source": []
  }
 ],
 "metadata": {
  "kernelspec": {
   "display_name": "Python 3 (ipykernel)",
   "language": "python",
   "name": "python3"
  },
  "language_info": {
   "codemirror_mode": {
    "name": "ipython",
    "version": 3
   },
   "file_extension": ".py",
   "mimetype": "text/x-python",
   "name": "python",
   "nbconvert_exporter": "python",
   "pygments_lexer": "ipython3",
   "version": "3.8.18"
  }
 },
 "nbformat": 4,
 "nbformat_minor": 5
}
