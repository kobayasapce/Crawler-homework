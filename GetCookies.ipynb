{
 "cells": [
  {
   "cell_type": "code",
   "execution_count": 7,
   "id": "de984a8c-72d8-47b3-a454-6186c4707ece",
   "metadata": {},
   "outputs": [],
   "source": [
    "from selenium import webdriver\n",
    "import time\n",
    "import json"
   ]
  },
  {
   "cell_type": "code",
   "execution_count": 8,
   "id": "e8309b17-5db5-4044-8b26-db23663a6d77",
   "metadata": {},
   "outputs": [],
   "source": [
    "url = \"https://www.bilibili.com\""
   ]
  },
  {
   "cell_type": "code",
   "execution_count": 9,
   "id": "659b3752-519c-482b-8e0f-a01bde566460",
   "metadata": {},
   "outputs": [],
   "source": [
    "browser = webdriver.Chrome()\n",
    "browser.get(url=url)\n",
    "browser.delete_all_cookies()\n",
    "time.sleep(50)\n",
    "dictions = browser.get_cookies()\n",
    "jsons = json.dumps(dictions)\n",
    "\n",
    "with open(\"bilibili_cookies.txt\", \"w\") as f:\n",
    "    f.write(jsons)\n",
    "browser.quit()"
   ]
  },
  {
   "cell_type": "code",
   "execution_count": null,
   "id": "348795d2-b263-4f57-943e-ac27fc841c34",
   "metadata": {},
   "outputs": [],
   "source": []
  }
 ],
 "metadata": {
  "kernelspec": {
   "display_name": "Python 3 (ipykernel)",
   "language": "python",
   "name": "python3"
  },
  "language_info": {
   "codemirror_mode": {
    "name": "ipython",
    "version": 3
   },
   "file_extension": ".py",
   "mimetype": "text/x-python",
   "name": "python",
   "nbconvert_exporter": "python",
   "pygments_lexer": "ipython3",
   "version": "3.8.18"
  }
 },
 "nbformat": 4,
 "nbformat_minor": 5
}
